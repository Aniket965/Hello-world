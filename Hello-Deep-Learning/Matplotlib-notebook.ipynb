{
 "cells": [
  {
   "cell_type": "code",
   "execution_count": 4,
   "metadata": {},
   "outputs": [],
   "source": [
    "import numpy as np\n",
    "import matplotlib.pyplot as plt"
   ]
  },
  {
   "cell_type": "raw",
   "metadata": {},
   "source": [
    "x= np.linspace(0,10,1000)\n",
    "\n",
    "y=np.sin(x)\n",
    "\n",
    "plt.plot(x,y)\n",
    "\n",
    "plt.xlabel(\"Time\")\n",
    "plt.ylabel(\"Function of Time\")\n",
    "\n",
    "\n",
    "plt.show()"
   ]
  },
  {
   "cell_type": "code",
   "execution_count": 9,
   "metadata": {},
   "outputs": [
    {
     "name": "stderr",
     "output_type": "stream",
     "text": [
      "/home/hotshot07/.local/lib/python3.6/site-packages/ipykernel_launcher.py:5: FutureWarning: Method .as_matrix will be removed in a future version. Use .values instead.\n",
      "  \"\"\"\n"
     ]
    }
   ],
   "source": [
    "#Scatter plot\n",
    "\n",
    "import pandas as pd\n",
    "\n",
    "A=pd.read_csv('data_1d.csv', header=None).as_matrix()"
   ]
  },
  {
   "cell_type": "code",
   "execution_count": 10,
   "metadata": {},
   "outputs": [],
   "source": [
    "x=A[:,0]\n",
    "y=A[:,1]"
   ]
  },
  {
   "cell_type": "code",
   "execution_count": 11,
   "metadata": {},
   "outputs": [
    {
     "data": {
      "text/plain": [
       "<matplotlib.collections.PathCollection at 0x7fc997880e48>"
      ]
     },
     "execution_count": 11,
     "metadata": {},
     "output_type": "execute_result"
    },
    {
     "data": {
      "image/png": "[encoded data removed]",
      "text/plain": [
       "<Figure size 432x288 with 1 Axes>"
      ]
     },
     "metadata": {},
     "output_type": "display_data"
    }
   ],
   "source": [
    "plt.scatter(x,y)"
   ]
  },
  {
   "cell_type": "code",
   "execution_count": 15,
   "metadata": {},
   "outputs": [
    {
     "data": {
      "image/png": "[encoded data removed]",
      "text/plain": [
       "<Figure size 432x288 with 1 Axes>"
      ]
     },
     "metadata": {},
     "output_type": "display_data"
    }
   ],
   "source": [
    "x_line = np.linspace(0,100,100)\n",
    "y_line= 2*x_line+1\n",
    "plt.scatter(x_line,y_line)\n",
    "plt.show()"
   ]
  },
  {
   "cell_type": "code",
   "execution_count": 16,
   "metadata": {},
   "outputs": [
    {
     "data": {
      "text/plain": [
       "(array([10.,  9.,  5., 13., 10., 10.,  8., 16., 10.,  9.]),\n",
       " array([ 3.21124861, 12.88597188, 22.56069515, 32.23541842, 41.91014169,\n",
       "        51.58486496, 61.25958823, 70.9343115 , 80.60903477, 90.28375804,\n",
       "        99.95848131]),\n",
       " <a list of 10 Patch objects>)"
      ]
     },
     "execution_count": 16,
     "metadata": {},
     "output_type": "execute_result"
    },
    {
     "data": {
      "image/png": "[encoded data removed]",
      "text/plain": [
       "<Figure size 432x288 with 1 Axes>"
      ]
     },
     "metadata": {},
     "output_type": "display_data"
    }
   ],
   "source": [
    "#Histogram\n",
    "\n",
    "plt.hist(x)"
   ]
  },
  {
   "cell_type": "code",
   "execution_count": 18,
   "metadata": {},
   "outputs": [
    {
     "data": {
      "text/plain": [
       "(array([411., 387., 407., 379., 413., 434., 427., 398., 393., 410., 420.,\n",
       "        390., 428., 365., 395., 409., 388., 387., 394., 393., 375., 421.,\n",
       "        384., 403., 389.]),\n",
       " array([2.73731715e-04, 4.02512437e-02, 8.02287558e-02, 1.20206268e-01,\n",
       "        1.60183780e-01, 2.00161292e-01, 2.40138804e-01, 2.80116316e-01,\n",
       "        3.20093828e-01, 3.60071340e-01, 4.00048852e-01, 4.40026364e-01,\n",
       "        4.80003876e-01, 5.19981388e-01, 5.59958900e-01, 5.99936412e-01,\n",
       "        6.39913924e-01, 6.79891436e-01, 7.19868948e-01, 7.59846460e-01,\n",
       "        7.99823972e-01, 8.39801484e-01, 8.79778996e-01, 9.19756508e-01,\n",
       "        9.59734020e-01, 9.99711532e-01]),\n",
       " <a list of 25 Patch objects>)"
      ]
     },
     "execution_count": 18,
     "metadata": {},
     "output_type": "execute_result"
    },
    {
     "data": {
      "image/png": "[encoded data removed]",
      "text/plain": [
       "<Figure size 432x288 with 1 Axes>"
      ]
     },
     "metadata": {},
     "output_type": "display_data"
    }
   ],
   "source": [
    "R= np.random.random(10000)\n",
    "plt.hist(R,bins=25)"
   ]
  },
  {
   "cell_type": "code",
   "execution_count": 19,
   "metadata": {},
   "outputs": [],
   "source": [
    "y_actual=2*x+1"
   ]
  },
  {
   "cell_type": "code",
   "execution_count": 20,
   "metadata": {},
   "outputs": [],
   "source": [
    "residuals= y-y_actual"
   ]
  },
  {
   "cell_type": "code",
   "execution_count": 21,
   "metadata": {},
   "outputs": [
    {
     "data": {
      "text/plain": [
       "(array([ 6.,  7., 15., 14., 12., 18., 13.,  7.,  6.,  2.]),\n",
       " array([-9.78834827, -7.57337797, -5.35840768, -3.14343738, -0.92846708,\n",
       "         1.28650321,  3.50147351,  5.7164438 ,  7.9314141 , 10.14638439,\n",
       "        12.36135469]),\n",
       " <a list of 10 Patch objects>)"
      ]
     },
     "execution_count": 21,
     "metadata": {},
     "output_type": "execute_result"
    },
    {
     "data": {
      "image/png": "[encoded data removed]",
      "text/plain": [
       "<Figure size 432x288 with 1 Axes>"
      ]
     },
     "metadata": {},
     "output_type": "display_data"
    }
   ],
   "source": [
    "plt.hist(residuals)"
   ]
  },
  {
   "cell_type": "code",
   "execution_count": null,
   "metadata": {},
   "outputs": [],
   "source": [
    "#PLotting images\n",
    "df=pd.read_csv(\"train.csv\")\n",
    "M=df.as_matrix()\n",
    "im=M[0,1:]\n",
    "\n",
    "im=im.reshape(28,28)\n",
    "\n",
    "plt.imshow(im)\n",
    "plt.imshow(im, cmap='gray')"
   ]
  }
 ],
 "metadata": {
  "kernelspec": {
   "display_name": "Python 3",
   "language": "python",
   "name": "python3"
  },
  "language_info": {
   "codemirror_mode": {
    "name": "ipython",
    "version": 3
   },
   "file_extension": ".py",
   "mimetype": "text/x-python",
   "name": "python",
   "nbconvert_exporter": "python",
   "pygments_lexer": "ipython3",
   "version": "3.6.6"
  }
 },
 "nbformat": 4,
 "nbformat_minor": 2
}
