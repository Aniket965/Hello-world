a=input("enter a:")
b=input("enter b:")
c=a-b
print(c)
