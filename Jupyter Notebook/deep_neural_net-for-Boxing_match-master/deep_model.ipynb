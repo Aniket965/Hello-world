{
 "cells": [
  {
   "cell_type": "markdown",
   "metadata": {},
   "source": [
    "<font size=\"+2\"><bold>RESULT PREDICTOR FOR BOXING MATHCES by DNN</bold></font>"
   ]
  },
  {
   "cell_type": "markdown",
   "metadata": {},
   "source": [
    "<font size=\"+1\">\n",
    "<ul>\n",
    "<li>This is a walk through a deep neural network which predicts outcome of a boxing match with no use of frameworks.</li>\n",
    "<li>Prerequisites are understanding of all basic terms. </li>\n",
    "<li>I have tried to explain every term as low as I could.</li>\n",
    "<li>Even if you don't understand it at a first glance, don't worry.</li>\n",
    "<li>I have not explain some term immediately as they are used, they must have been explained somewhere later.</li>\n",
    "</ul>\n",
    "</font>"
   ]
  },
  {
   "cell_type": "code",
   "execution_count": 1,
   "metadata": {},
   "outputs": [],
   "source": [
    "import numpy as np\n",
    "import pandas as pd\n",
    "import math\n",
    "import matplotlib.pyplot as plt"
   ]
  },
  {
   "cell_type": "markdown",
   "metadata": {},
   "source": [
    "<font size=\"+2\">\n",
    "</p> Functions for activations</p>\n",
    "</font>\n",
    "<font size=\"+1\">\n",
    "<ul>\n",
    "<li>These are used as a threshold measure, like the way neurons in your brain fires after a certain thresholds. </li>\n",
    "    <li>Now, a linear equation is easy to solve but they are limited in their complexity and have less power to learn complex functional mappings from data. A Neural Network without Activation function would simply be a Linear regression Model</li>\n",
    "    <li>Here we have use a commonly used activation function ReLU((Rectified Linear Unit)).\n",
    "    </ul>\n",
    "    </font>\n",
    "<font size=\"+1\">\n",
    "</p> This function will be used in forward propagation.</p>\n",
    "</font>"
   ]
  },
  {
   "cell_type": "code",
   "execution_count": 2,
   "metadata": {},
   "outputs": [],
   "source": [
    "#Z is the linear output of all the neuron of a layers stacked together in a matrix.\n",
    "#A is called Post-activation parameter.\n",
    "#both A and Z are of same dimensions.\n",
    "#cache is for saving parameters used for calculating derivatives during backpropagation.\n",
    "#range: (0,INF)\n",
    "\n",
    "def relu(Z):\n",
    "    A = np.maximum(0,Z)\n",
    "    cache = Z\n",
    "    \n",
    "    return A, cache\n",
    "\n",
    "#we will use sigmoid for final layer as we want our predictons either A wins or B \n",
    "#range: (0,1)\n",
    "\n",
    "def sigmoid(Z):\n",
    "    \n",
    "    A = 1/(1+np.exp(-Z))\n",
    "    \n",
    "    cache = Z\n",
    "    \n",
    "    return A, cache"
   ]
  },
  {
   "cell_type": "markdown",
   "metadata": {},
   "source": [
    "<font size=\"+1\">\n",
    "            </p>This will be used in back propagation. </p>\n",
    "</font>"
   ]
  },
  {
   "cell_type": "code",
   "execution_count": 3,
   "metadata": {},
   "outputs": [],
   "source": [
    "#this function will be used in back propagation.\n",
    "#dA is the post-gradient parameter,i.e. partial derivation of cost funcion with respect to activation function A.\n",
    "#cache is where we store Z for efficient calculation of gradients during backprop.\n",
    "#this is specifically made for relu activation function, thus the name.\n",
    "#calculation of derivative dZ is activation function dependent. \n",
    "\n",
    "def relu_backward(dA, cache):\n",
    "    Z = cache\n",
    "    dZ = np.array(dA, copy=True) \n",
    "    \n",
    "    dZ[Z <= 0] = 0     \n",
    "    \n",
    "    return dZ\n",
    "\n",
    "#Go through the maths for understanding how dZ = dA * s * (1-s)\n",
    "def sigmoid_backward(dA, cache):\n",
    "    Z = cache\n",
    "    \n",
    "    s = 1/(1+np.exp(-Z))\n",
    "    dZ = dA * s * (1-s)  \n",
    "    \n",
    "    return dZ"
   ]
  },
  {
   "cell_type": "markdown",
   "metadata": {},
   "source": [
    "<font size=\"+2\">We will do following Tasks</font>\n",
    "<font size=\"+1\">\n",
    "<p>Making functions for the following:</p>\n",
    "<ul>\n",
    "<li>Forward Propagation</li>\n",
    "<li>Computation of Loss</li>\n",
    "<li>Backward Propagatoin</li>\n",
    "    <li> Update Parameters</li>\n",
    "      </ul>\n",
    "<p>Loading data and buliding the complete network.</p>\n",
    "  \n",
    "    </font>"
   ]
  },
  {
   "cell_type": "markdown",
   "metadata": {},
   "source": [
    "<font size=\"+2\">Forward propagation</font>\n",
    "<font size=\"+1\">\n",
    "<ul>\n",
    "<li>Initialization parameters.</li>\n",
    "<li>Linear Forward</li>\n",
    "<li>Linear_Activation Forward</li>\n",
    "<li>Forward_Layer Model</li>\n",
    "    </ul>\n",
    "    </font>"
   ]
  },
  {
   "cell_type": "markdown",
   "metadata": {},
   "source": [
    "<font size=\"+2\">Initializing parameters</font>\n",
    "<p>\n",
    "<font size=\"+1\">It is done inorder to create weights and biases of required dimensions for needed calculations \n",
    "    and randomization of weights should be greater than 0, \n",
    "so that our model can learn. \n",
    "</font>\n",
    "</p>"
   ]
  },
  {
   "cell_type": "code",
   "execution_count": 4,
   "metadata": {},
   "outputs": [],
   "source": [
    "#variables are self-explanatory\n",
    "#dimensions_of_layers is python list type for the number of units in different layers.\n",
    "\n",
    "def initializing_parameters(dimensions_of_layers):\n",
    "    \n",
    "\n",
    "    #A seed is an initial value that is fed into a pseudo random number generator \n",
    "    #to start or kick off the process of random number generation.\n",
    "    np.random.seed(1)\n",
    "    \n",
    "    #number of layers\n",
    "    N = len(dimensions_of_layers)\n",
    "    \n",
    "    #intializing python dictionary for holding parameters\n",
    "    parameters={}\n",
    "    \n",
    "    for n in range(1,N):\n",
    "        \n",
    "        #randomly initializing weights\n",
    "        #dimensions for weights is (number of units in the present layer, number of units in previous layers)\n",
    "        parameters['W' + str(n)] = np.random.randn(dimensions_of_layers[n], dimensions_of_layers[n - 1]) / np.sqrt(dimensions_of_layers[n-1])\n",
    "        \n",
    "        #initializing biases to zero \n",
    "        #dimensions for weights is (number of units in present layer,1)\n",
    "        parameters['b' + str(n)] = np.zeros((dimensions_of_layers[n], 1))\n",
    "    \n",
    "    #return dictionary of initialized parameters    \n",
    "    return parameters\n",
    "    "
   ]
  },
  {
   "cell_type": "code",
   "execution_count": 5,
   "metadata": {},
   "outputs": [],
   "source": [
    "#p=initializing_parameters([16,20,7,5,1])"
   ]
  },
  {
   "cell_type": "markdown",
   "metadata": {},
   "source": [
    "<font size=\"+2\">Linear Forward</font>\n",
    "<p>$$Z^{[l]} = W^{[l]}A^{[l-1]} +b^{[l]}$$</p>"
   ]
  },
  {
   "cell_type": "markdown",
   "metadata": {},
   "source": [
    "<font size=\"+2\">Linear Activation Forward</font>\n",
    "<p>$$A = RELU(Z) = max(0, Z)$$</p>"
   ]
  },
  {
   "cell_type": "code",
   "execution_count": 6,
   "metadata": {},
   "outputs": [],
   "source": [
    "#A-> activation parameter from previous layer\n",
    "#W-> weight matrix of present layer\n",
    "#b-> biase matrix of present layer\n",
    "#applying ReLU on the linear function calculated above to evolve it from a simple linear regressor\n",
    "\n",
    "def linear_activation_forward(A_prev, W, b, activation):\n",
    "\n",
    "    #fetching values of Z and cache from linear_forward\n",
    "    Z = np.dot(W, A_prev) + b\n",
    "        \n",
    "    #dictionary for storing W,b,A used during backprop\n",
    "    linear_cache = (A_prev,W,b)\n",
    "   \n",
    "    if activation == \"relu\":     \n",
    "        \n",
    "        #this returns A-> activation parameter and the present value of Z to the activation_cache\n",
    "        A, activation_cache = relu(Z)\n",
    "        \n",
    "    elif activation == \"sigmoid\":\n",
    "        \n",
    "        #this returns A-> activation parameter and the present value of Z to the activation_cache\n",
    "        A, activation_cache = sigmoid(Z)\n",
    "    \n",
    "    #finaly we save our present layer's W,b,Z and previous layer's A_prev into cache dict for backprop use\n",
    "    cache = (linear_cache, activation_cache)\n",
    "\n",
    "    \n",
    "    return A, cache"
   ]
  },
  {
   "cell_type": "markdown",
   "metadata": {},
   "source": [
    "<font size=\"+2\">Forward Layer Model </font>\n",
    "<font size=\"+1\"><p><center>Combining all forward functions</center></p></font>"
   ]
  },
  {
   "cell_type": "code",
   "execution_count": 7,
   "metadata": {},
   "outputs": [],
   "source": [
    "#parameters from initializing_parameters\n",
    "\n",
    "def forward_layer_model(features_matrix, parameters):\n",
    "    \n",
    "    #storage for storing caches of every layer\n",
    "    caches = []\n",
    "    \n",
    "    #initializing A with features_matrix as it is the input layer\n",
    "    A = features_matrix\n",
    "    \n",
    "    #number of layer, as parameters contain both W and b,\n",
    "    N = len(parameters)//2\n",
    "   \n",
    "\n",
    "    #loop for applying above functions in every layer\n",
    "    for n in range(1,N):\n",
    "        \n",
    "        #as the input layer is not included and A=features_matrix will be A^[0]\n",
    "        A_prev = A\n",
    "        A, cache = linear_activation_forward(A_prev, parameters['W' + str(n)], parameters['b' + str(n)], activation='relu')\n",
    "        \n",
    "        #appending caches list\n",
    "        caches.append(cache)\n",
    "   \n",
    "    AL, cache = linear_activation_forward(A, parameters['W' + str(N)], parameters['b' + str(N)], activation=\"sigmoid\")\n",
    "    caches.append(cache)\n",
    "\n",
    "    #here A will be of last layer\n",
    "    return AL, caches\n",
    "    \n"
   ]
  },
  {
   "cell_type": "code",
   "execution_count": 8,
   "metadata": {},
   "outputs": [],
   "source": [
    "#forward_layer_model(data_train_feature,p)"
   ]
  },
  {
   "cell_type": "markdown",
   "metadata": {},
   "source": [
    "<font size=\"+2\">Computation Of Loss</font>\n",
    "<p>$$Cross Entropy(J)=-\\frac{1}{m} \\sum\\limits_{i = 1}^{m} (y^{(i)}\\log\\left(a^{[L] (i)}\\right) + (1-y^{(i)})\\log\\left(1- a^{[L](i)}\\right))$$</p>"
   ]
  },
  {
   "cell_type": "code",
   "execution_count": 9,
   "metadata": {},
   "outputs": [],
   "source": [
    "def cost_calc(A_l_layer, target_matrix):\n",
    "    \n",
    "    #m are number of examples in the data-sets \n",
    "    m=target_matrix.shape[1]\n",
    "    \n",
    "    cost = -(np.sum(np.multiply(target_matrix, np.log(A_l_layer)) + np.multiply(1 - target_matrix, np.log(1 - A_l_layer))))/m\n",
    "    \n",
    "    cost = np.squeeze(cost)      # To make sure your cost's shape is what we expect (e.g. this turns [[17]] into 17).\n",
    "    \n",
    "    return cost"
   ]
  },
  {
   "cell_type": "markdown",
   "metadata": {},
   "source": [
    "<font size=\"+2\">Backward propagation</font>\n",
    "<font size=\"+1\">\n",
    "<ul>\n",
    "<li>Linear Backward</li>\n",
    "<li>Linear_Activation Backward</li>\n",
    "<li>Backward_Layer Model</li>\n",
    "    </ul>\n",
    "    </font>\n",
    "<font size=\"+1\"><p>Backprop is needed inorder to calculate gradients of Loss function with respect to Parameters</p></font>"
   ]
  },
  {
   "cell_type": "markdown",
   "metadata": {},
   "source": [
    "<font size=\"+2\">Linear Backward</font>\n",
    "\n",
    "$$ dW^{[l]} = \\frac{\\partial \\mathcal{L} }{\\partial W^{[l]}} = \\frac{1}{m} dZ^{[l]} A^{[l-1] T} $$\n",
    "$$ db^{[l]} = \\frac{\\partial \\mathcal{L} }{\\partial b^{[l]}} = \\frac{1}{m} \\sum_{i = 1}^{m} dZ^{[l](i)}$$\n",
    "$$ dA^{[l-1]} = \\frac{\\partial \\mathcal{L} }{\\partial A^{[l-1]}} = W^{[l] T} dZ^{[l]} $$"
   ]
  },
  {
   "cell_type": "code",
   "execution_count": 10,
   "metadata": {},
   "outputs": [],
   "source": [
    "def linear_backward(dZ, cache):\n",
    "    \n",
    "    #fetching values from cache in linear forward \n",
    "    A_prev, W,b = cache\n",
    "    \n",
    "    #m is the no. of columns in A_prev\n",
    "    m=A_prev.shape[1]\n",
    "    \n",
    "    #gradient of loss function with respect to W\n",
    "    dW = 1./m * np.dot(dZ,A_prev.T)\n",
    "    \n",
    "    #to preserve dimensions\n",
    "    db = 1./m * np.sum(dZ, axis = 1, keepdims = True)    \n",
    "    \n",
    "    #gradient of loss function with respect to A_prev\n",
    "    dA_prev = np.dot(W.T, dZ)\n",
    "    \n",
    "    #returning gradients\n",
    "    return dA_prev, dW, db\n"
   ]
  },
  {
   "cell_type": "markdown",
   "metadata": {},
   "source": [
    "<font size=\"+2\">Linear activation Backward</font>\n",
    "$$dZ^{[l]} = dA^{[l]} * g'(Z^{[l]})$$\n"
   ]
  },
  {
   "cell_type": "code",
   "execution_count": 11,
   "metadata": {},
   "outputs": [],
   "source": [
    "def linear_activation_backward(dA, caches , activation):\n",
    "       \n",
    "    linear_cache, activation_cache = caches\n",
    "    \n",
    "    if activation == \"relu\":\n",
    "        dZ = relu_backward(dA, activation_cache)\n",
    "        dA_prev, dW, db = linear_backward(dZ, linear_cache)\n",
    "        \n",
    "    elif activation == \"sigmoid\":\n",
    "        dZ = sigmoid_backward(dA, activation_cache)\n",
    "        dA_prev, dW, db = linear_backward(dZ, linear_cache)\n",
    "    \n",
    "    return dA_prev, dW, db"
   ]
  },
  {
   "cell_type": "markdown",
   "metadata": {},
   "source": [
    "<font size=\"+2\">Backward Layer Model</font>\n",
    "\n",
    "<font size=\"+1\"><p><center>Combining all backward functions</center></p></font>"
   ]
  },
  {
   "cell_type": "code",
   "execution_count": 12,
   "metadata": {},
   "outputs": [],
   "source": [
    "def backward_layer_model(A_l_layer, target_matrix , caches):\n",
    "    \n",
    "    #intializing gradients dictionary for each layer\n",
    "    grads={}\n",
    "    \n",
    "    #number of layers\n",
    "    N=len(caches)\n",
    "    \n",
    "    #number of examples\n",
    "    m=A_l_layer.shape[1]\n",
    "    \n",
    "    #making sure both target_matrix and A_last_layer are of shame dimensions\n",
    "\n",
    "    target_matrix= target_matrix.reshape(A_l_layer.shape)\n",
    "    \n",
    "    dAL = - (np.divide(target_matrix, A_l_layer) - np.divide(1 - target_matrix, 1 - A_l_layer))\n",
    "    \n",
    "    #-1 is last dictionary of cache so\n",
    "    current_cache = caches[-1]\n",
    "    \n",
    "    #fetching gradients of output layers into our dictionary\n",
    "    grads[\"dA\" + str(N)], grads[\"dW\" + str(N)], grads[\"db\" + str(N)] = linear_activation_backward(dAL,current_cache,\"sigmoid\")\n",
    "    \n",
    "    #iterating backwards for all hidden layers\n",
    "    for n in reversed(range(N-1)):\n",
    "        \n",
    "        #taking caches from backwards\n",
    "        current_cache = caches[n]\n",
    "        \n",
    "        dA_prev_temp, dW_temp, db_temp = linear_activation_backward(grads[\"dA\" + str(n + 2)], current_cache, activation = \"relu\")\n",
    "        \n",
    "        grads[\"dA\" + str(n + 1)] = dA_prev_temp\n",
    "        grads[\"dW\" + str(n + 1)] = dW_temp\n",
    "        grads[\"db\" + str(n + 1)] = db_temp\n",
    "        \n",
    "    return grads"
   ]
  },
  {
   "cell_type": "markdown",
   "metadata": {},
   "source": [
    "<font size=\"+2\">Update Parameters</font>\n",
    "\n",
    "$$ W^{[l]} = W^{[l]} - \\alpha \\text{ } dW^{[l]} $$\n",
    "$$ b^{[l]} = b^{[l]} - \\alpha \\text{ } db^{[l]} $$"
   ]
  },
  {
   "cell_type": "code",
   "execution_count": 13,
   "metadata": {},
   "outputs": [],
   "source": [
    "def update_parameters(parameters, grads, learning_rate):\n",
    "    \n",
    "    #number of layers\n",
    "    L = len(parameters) // 2 \n",
    "\n",
    "    #Update\n",
    "    for l in range(L):\n",
    "        parameters[\"W\" + str(l+1)] = parameters[\"W\" + str(l+1)] - learning_rate * grads[\"dW\" + str(l+1)]\n",
    "        parameters[\"b\" + str(l+1)] = parameters[\"b\" + str(l+1)] - learning_rate * grads[\"db\" + str(l+1)]\n",
    "        \n",
    "    return parameters"
   ]
  },
  {
   "cell_type": "markdown",
   "metadata": {},
   "source": [
    "<font size=\"+2\">Predict Function</font>\n"
   ]
  },
  {
   "cell_type": "code",
   "execution_count": 14,
   "metadata": {},
   "outputs": [],
   "source": [
    "def predict(features_matrix, target_matrix, parameters):\n",
    "    \n",
    "    #number of examples\n",
    "    m = features_matrix.shape[1]\n",
    "    \n",
    "    #number of layers\n",
    "    n = len(parameters) // 2 \n",
    "    \n",
    "    #initializing prediction matrix\n",
    "    p = np.zeros((1, m),dtype=int)\n",
    "    \n",
    "    # Forward propagation\n",
    "    probability, caches = forward_layer_model(features_matrix, parameters)\n",
    "\n",
    "\n",
    "    # convert probability to 0/1 predictions\n",
    "    #loop for each example\n",
    "    for i in range(probability.shape[1]):\n",
    "        \n",
    "        if probability[0,i] > 0.5:\n",
    "            p[0,i] = 1\n",
    "        \n",
    "        else:\n",
    "            p[0,i] = 0\n",
    "\n",
    "    #print results\n",
    "    #print (\"predictions: \" + str(p))\n",
    "    #print (\"true labels: \" + str(y))\n",
    "    print(\"Accuracy: %s\" % str(np.sum(p == target_matrix)/float(m)))\n",
    "        \n",
    "    return p"
   ]
  },
  {
   "cell_type": "code",
   "execution_count": 15,
   "metadata": {},
   "outputs": [
    {
     "name": "stderr",
     "output_type": "stream",
     "text": [
      "/usr/local/lib/python3.5/dist-packages/pandas/core/computation/check.py:17: UserWarning: The installed version of numexpr 2.4.3 is not supported in pandas and will be not be used\n",
      "The minimum supported version is 2.4.6\n",
      "\n",
      "  ver=ver, min_ver=_MIN_NUMEXPR_VERSION), UserWarning)\n"
     ]
    }
   ],
   "source": [
    "#loading data which I had pre-processed and cleaned earlier\n",
    "data=pd.read_csv(\"final_csv\", sep=\",\")\n",
    "\n",
    "ind=[]\n",
    "for i in range(len(data[\"result\"])):\n",
    "    if (data[\"result\"][i])==2:\n",
    "            ind.append(i)\n",
    "data.drop(ind, inplace=True)\n",
    "data=data.reset_index(drop=True)\n",
    "            \n",
    "#normalising data columns\n",
    "data['age_A']= data['age_A']/40\n",
    "data['age_B']= data['age_B']/40\n",
    "data['height_A']= data['height_A']/200\n",
    "data['height_B']= data['height_B']/200\n",
    "data['reach_A']= data['reach_A']/200\n",
    "data['reach_B']= data['reach_B']/200\n",
    "data['weight_A']= data['weight_A']/200\n",
    "data['weight_B']= data['weight_B']/200\n",
    "data['won_A']= data['won_A']/100\n",
    "data['won_B']= data['won_B']/100\n",
    "data['lost_A']= data['lost_A']/10\n",
    "data['lost_B']= data['lost_B']/10\n",
    "data['drawn_A']= data['drawn_A']/10\n",
    "data['drawn_B']= data['drawn_B']/10\n",
    "data['kos_A']= data['kos_A']/100\n",
    "data['kos_B']=data['kos_B']/100\n",
    "\n",
    "#taking 1090 win_B test cases\n",
    "ind=[]\n",
    "for i in range(len(data[\"result\"])):\n",
    "    if (data[\"result\"][i])==1:\n",
    "            ind.append(i)\n",
    "\n",
    "data_one= data.iloc[ind]\n",
    "\n",
    "#taking 1090 win_A cases\n",
    "ind=[]\n",
    "for i in range(len(data[\"result\"])):\n",
    "    if (data[\"result\"][i])==0:\n",
    "            ind.append(i)\n",
    "    if len(ind)==1090:\n",
    "        break\n",
    "data_zero= data.iloc[ind]\n",
    "\n",
    "data_one=data_one.append(data_zero)\n",
    "\n",
    "data= data_one\n",
    "data=data.reset_index(drop=True)\n",
    "data = data.sample(frac=1)\n",
    "\n",
    "#dividing data into three groups\n",
    "#training dataframe\n",
    "#validation dataframe for hyperparameters tuning\n",
    "#testing dataframe to test model\n",
    "data_train=data.head(n=1500) #training dataframe\n",
    "data_test=data.iloc[1500:1840] # testing dataframe\n",
    "data_validation=data.iloc[1840:2180] #validation dataframe\n",
    "\n"
   ]
  },
  {
   "cell_type": "code",
   "execution_count": 16,
   "metadata": {},
   "outputs": [],
   "source": [
    "#making features by converting above dataframes into numpy arrays\n",
    "data_train_feature = data_train.as_matrix(columns=['age_A',\n",
    " 'age_B',\n",
    " 'height_A',\n",
    " 'height_B',\n",
    " 'reach_A',\n",
    " 'reach_B',\n",
    " 'weight_A',\n",
    " 'weight_B',\n",
    " 'won_A',\n",
    " 'won_B',\n",
    " 'lost_A',\n",
    " 'lost_B',\n",
    " 'drawn_A',\n",
    " 'drawn_B',\n",
    " 'kos_A',\n",
    " 'kos_B'])\n",
    "\n",
    "data_train_target = data_train.as_matrix(columns=['result'])\n",
    "\n",
    "data_test_feature = data_test.as_matrix(columns=['age_A',\n",
    " 'age_B',\n",
    " 'height_A',\n",
    " 'height_B',\n",
    " 'reach_A',\n",
    " 'reach_B',\n",
    " 'weight_A',\n",
    " 'weight_B',\n",
    " 'won_A',\n",
    " 'won_B',\n",
    " 'lost_A',\n",
    " 'lost_B',\n",
    " 'drawn_A',\n",
    " 'drawn_B',\n",
    " 'kos_A',\n",
    " 'kos_B'])\n",
    "\n",
    "data_test_target = data_test.as_matrix(columns=['result'])\n",
    "\n",
    "data_validation_feature = data_validation.as_matrix(columns=['age_A',\n",
    " 'age_B',\n",
    " 'height_A',\n",
    " 'height_B',\n",
    " 'reach_A',\n",
    " 'reach_B',\n",
    " 'weight_A',\n",
    " 'weight_B',\n",
    " 'won_A',\n",
    " 'won_B',\n",
    " 'lost_A',\n",
    " 'lost_B',\n",
    " 'drawn_A',\n",
    " 'drawn_B',\n",
    " 'kos_A',\n",
    " 'kos_B'])\n",
    "\n",
    "data_validation_target = data_validation.as_matrix(columns=['result'])\n"
   ]
  },
  {
   "cell_type": "code",
   "execution_count": 17,
   "metadata": {},
   "outputs": [],
   "source": [
    "#correcting dimensions\n",
    "#as we have examples as our columns\n",
    "data_train_feature=data_train_feature.reshape((16,1500))\n",
    "data_train_target=data_train_target.reshape((1,1500))\n",
    "\n",
    "data_validation_feature=data_validation_feature.reshape((16,340))\n",
    "data_validation_target=data_validation_target.reshape((1,340))\n",
    "\n",
    "data_test_feature=data_test_feature.reshape((16,340))\n",
    "data_test_target=data_test_target.reshape((1,340))"
   ]
  },
  {
   "cell_type": "code",
   "execution_count": 39,
   "metadata": {},
   "outputs": [],
   "source": [
    "layers_dims = [16,10,8,16,10,8,1]"
   ]
  },
  {
   "cell_type": "code",
   "execution_count": 40,
   "metadata": {},
   "outputs": [],
   "source": [
    "def NN(X, Y, layers_dims, learning_rate=3, num_iterations=3000, print_cost=False): \n",
    "   \n",
    "    costs = []          \n",
    "    \n",
    "    # Parameters initialization.\n",
    "    parameters = initializing_parameters(layers_dims)\n",
    "    \n",
    "    # Loop (gradient descent)\n",
    "    for i in range(0, num_iterations):\n",
    "               \n",
    "        # Forward propagation\n",
    "        AL, caches = forward_layer_model(X, parameters)\n",
    "    \n",
    "        # Compute cost\n",
    "        cost = cost_calc(AL, Y)\n",
    "    \n",
    "        # Backward propagation\n",
    "        grads = backward_layer_model(AL, Y, caches)\n",
    "        \n",
    "        # Update parameters\n",
    "        parameters = update_parameters(parameters, grads, learning_rate)\n",
    "               # Print the cost every 100 training example\n",
    "        if print_cost and i % 1000 == 0:\n",
    "            print (\"Cost after iteration %i: %f\" % (i, cost))\n",
    "        if print_cost and i % 1000 == 0:\n",
    "            costs.append(cost)\n",
    "            \n",
    "    # plot the cost\n",
    "    plt.plot(np.squeeze(costs))\n",
    "    plt.ylabel('cost')\n",
    "    plt.xlabel('iterations (per tens)')\n",
    "    plt.title(\"Learning rate =\" + str(learning_rate))\n",
    "    plt.show()\n",
    "    \n",
    "    return parameters"
   ]
  },
  {
   "cell_type": "code",
   "execution_count": 46,
   "metadata": {},
   "outputs": [
    {
     "name": "stdout",
     "output_type": "stream",
     "text": [
      "Cost after iteration 0: 0.692764\n",
      "Cost after iteration 1000: 0.676189\n",
      "Cost after iteration 2000: 0.660084\n",
      "Cost after iteration 3000: 0.650128\n",
      "Cost after iteration 4000: 0.633951\n",
      "Cost after iteration 5000: 0.616926\n",
      "Cost after iteration 6000: 0.605217\n",
      "Cost after iteration 7000: 0.563988\n",
      "Cost after iteration 8000: 0.554435\n",
      "Cost after iteration 9000: 0.557610\n",
      "Cost after iteration 10000: 0.546272\n",
      "Cost after iteration 11000: 0.510672\n",
      "Cost after iteration 12000: 0.514653\n",
      "Cost after iteration 13000: 0.467705\n",
      "Cost after iteration 14000: 0.461463\n",
      "Cost after iteration 15000: 0.529128\n",
      "Cost after iteration 16000: 0.494729\n",
      "Cost after iteration 17000: 0.427885\n",
      "Cost after iteration 18000: 0.435771\n"
     ]
    },
    {
     "data": {
      "image/png": "[encoded data removed]",
      "text/plain": [
       "<matplotlib.figure.Figure at 0x7f102a37b0b8>"
      ]
     },
     "metadata": {},
     "output_type": "display_data"
    }
   ],
   "source": [
    "parameters = NN(data_train_feature, data_train_target, layers_dims, learning_rate=0.07,num_iterations=19000, print_cost=True)"
   ]
  },
  {
   "cell_type": "code",
   "execution_count": 47,
   "metadata": {},
   "outputs": [
    {
     "name": "stdout",
     "output_type": "stream",
     "text": [
      "Accuracy: 0.8\n"
     ]
    }
   ],
   "source": [
    "p=predict(data_train_feature,data_train_target,parameters)"
   ]
  },
  {
   "cell_type": "code",
   "execution_count": null,
   "metadata": {},
   "outputs": [],
   "source": [
    "#fitting is about 80%\n",
    "\n",
    "#the model is not yet optimized.\n"
   ]
  }
 ],
 "metadata": {
  "kernelspec": {
   "display_name": "Python 3",
   "language": "python",
   "name": "python3"
  },
  "language_info": {
   "codemirror_mode": {
    "name": "ipython",
    "version": 3
   },
   "file_extension": ".py",
   "mimetype": "text/x-python",
   "name": "python",
   "nbconvert_exporter": "python",
   "pygments_lexer": "ipython3",
   "version": "3.5.2"
  }
 },
 "nbformat": 4,
 "nbformat_minor": 2
}
