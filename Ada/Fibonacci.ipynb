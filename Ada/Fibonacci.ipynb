n = int(input('Enter the number of terms'))
a = 0
b = 1
for i in range(n):
    print(a)
    c = a+b
    a = b
    b = c
